{
 "cells": [
  {
   "cell_type": "code",
   "execution_count": 88,
   "outputs": [],
   "source": [
    "import os\n",
    "import json\n",
    "import dotenv\n",
    "from langchain.chat_models import ChatOpenAI\n",
    "from langchain.prompts import FewShotChatMessagePromptTemplate, ChatPromptTemplate\n",
    "from langchain.schema.output_parser import StrOutputParser"
   ],
   "metadata": {
    "collapsed": false,
    "ExecuteTime": {
     "end_time": "2023-11-06T14:00:37.450644978Z",
     "start_time": "2023-11-06T14:00:37.395717489Z"
    }
   },
   "id": "161a21bda33952a1"
  },
  {
   "cell_type": "code",
   "execution_count": 89,
   "outputs": [
    {
     "data": {
      "text/plain": "True"
     },
     "execution_count": 89,
     "metadata": {},
     "output_type": "execute_result"
    }
   ],
   "source": [
    "dotenv.load_dotenv()"
   ],
   "metadata": {
    "collapsed": false,
    "ExecuteTime": {
     "end_time": "2023-11-06T14:00:37.451955541Z",
     "start_time": "2023-11-06T14:00:37.438122243Z"
    }
   },
   "id": "faa8879414a56dd9"
  },
  {
   "cell_type": "code",
   "execution_count": 90,
   "id": "initial_id",
   "metadata": {
    "collapsed": true,
    "ExecuteTime": {
     "end_time": "2023-11-06T14:00:37.452346749Z",
     "start_time": "2023-11-06T14:00:37.438671754Z"
    }
   },
   "outputs": [],
   "source": [
    "language_model = ChatOpenAI(\n",
    "    openai_api_key=os.getenv(\"OPENAI_API_KEY\"),\n",
    "    model_name=os.getenv(\"OPENAI_CHAT_MODEL_NAME\"),\n",
    "    temperature=float(os.getenv(\"OPENAI_CHAT_MODEL_TEMPERATURE\")),\n",
    "    max_tokens=int(os.getenv(\"OPENAI_CHAT_MODEL_MAX_TOKENS\")),\n",
    ")"
   ]
  },
  {
   "cell_type": "code",
   "execution_count": 91,
   "outputs": [],
   "source": [
    "data = {\n",
    "    \"events\": [\n",
    "        \"Hiking\",\n",
    "        \"Sprint Meeting\",\n",
    "        \"RTW 1211\",\n",
    "    ],\n",
    "    \"weather\":\n",
    "        {\n",
    "            \"general\": \"few clouds\",\n",
    "            \"is_dew\": \"False\",\n",
    "            \"is_rain\": \"False\",\n",
    "            \"is_snow\": \"False\"\n",
    "        },\n",
    "    \"daytime\": \"midday\",\n",
    "    \"art_style\": \"oil painting\"\n",
    "}"
   ],
   "metadata": {
    "collapsed": false,
    "ExecuteTime": {
     "end_time": "2023-11-06T14:00:37.452673458Z",
     "start_time": "2023-11-06T14:00:37.438958882Z"
    }
   },
   "id": "72fb94ef03a311bb"
  },
  {
   "cell_type": "code",
   "execution_count": 92,
   "outputs": [],
   "source": [
    "examples = [\n",
    "    {\n",
    "        \"data\": \"\"\"{\n",
    "    \"events\": [\n",
    "        \"Kickoff Meeting\",\n",
    "        \"DE10CBA3\",\n",
    "        \"Cycling Tour\",\n",
    "        \"Band Practice\",\n",
    "    ],\n",
    "    \"weather\": {\n",
    "            \"general\": \"sunny\",\n",
    "            \"is_dew\": \"False\",\n",
    "            \"is_rain\": \"False\",\n",
    "            \"is_snow\": \"False\"\n",
    "        },\n",
    "    \"daytime\": \"morning\",\n",
    "    \"art_style\": \"photograph\"\n",
    "}\"\"\",\n",
    "        \"image_prompt\": \"A photograph of a person on a bicycle, driving on a road in the woods, on a sunny morning.\",\n",
    "\n",
    "    }\n",
    "]"
   ],
   "metadata": {
    "collapsed": false,
    "ExecuteTime": {
     "end_time": "2023-11-06T14:00:37.452896224Z",
     "start_time": "2023-11-06T14:00:37.444439988Z"
    }
   },
   "id": "4c007f868c51e386"
  },
  {
   "cell_type": "code",
   "execution_count": 93,
   "outputs": [],
   "source": [
    "example_prompt = ChatPromptTemplate.from_messages([\n",
    "    (\"human\", \"data: {data}\"),\n",
    "    (\"ai\", \"image prompt: {image_prompt}\")\n",
    "])"
   ],
   "metadata": {
    "collapsed": false,
    "ExecuteTime": {
     "end_time": "2023-11-06T14:00:37.514709303Z",
     "start_time": "2023-11-06T14:00:37.454920540Z"
    }
   },
   "id": "812c0c7a06aade41"
  },
  {
   "cell_type": "code",
   "execution_count": 94,
   "outputs": [],
   "source": [
    "few_shot_prompt = FewShotChatMessagePromptTemplate(\n",
    "    example_prompt=example_prompt,\n",
    "    examples=examples,\n",
    ")"
   ],
   "metadata": {
    "collapsed": false,
    "ExecuteTime": {
     "end_time": "2023-11-06T14:00:37.515634951Z",
     "start_time": "2023-11-06T14:00:37.499156835Z"
    }
   },
   "id": "420e37291ad17ceb"
  },
  {
   "cell_type": "code",
   "execution_count": 95,
   "outputs": [
    {
     "name": "stdout",
     "output_type": "stream",
     "text": [
      "System: Please generate a prompt for an image generation AI that visualizes the provided data (in JSON format).\n",
      "Human: data: {\n",
      "    \"events\": [\n",
      "        \"Kickoff Meeting\",\n",
      "        \"DE10CBA3\",\n",
      "        \"Cycling Tour\",\n",
      "        \"Band Practice\",\n",
      "    ],\n",
      "    \"weather\": {\n",
      "            \"general\": \"sunny\",\n",
      "            \"is_dew\": \"False\",\n",
      "            \"is_rain\": \"False\",\n",
      "            \"is_snow\": \"False\"\n",
      "        },\n",
      "    \"daytime\": \"morning\",\n",
      "    \"art_style\": \"photograph\"\n",
      "}\n",
      "AI: image prompt: A photograph of a person on a bicycle, driving on a road in the woods, on a sunny morning.\n",
      "Human: data: {\n",
      "    \"events\": [\n",
      "        \"Hiking\",\n",
      "        \"Sprint Meeting\",\n",
      "        \"RTW 1211\"\n",
      "    ],\n",
      "    \"weather\": {\n",
      "        \"general\": \"few clouds\",\n",
      "        \"is_dew\": \"False\",\n",
      "        \"is_rain\": \"False\",\n",
      "        \"is_snow\": \"False\"\n",
      "    },\n",
      "    \"daytime\": \"midday\",\n",
      "    \"art_style\": \"oil painting\"\n",
      "}\n",
      "AI: image prompt: \n"
     ]
    }
   ],
   "source": [
    "final_prompt = ChatPromptTemplate.from_messages([\n",
    "    (\"system\",\n",
    "     \"Please generate a prompt for an image generation AI that visualizes the provided data (in JSON format).\"),\n",
    "    few_shot_prompt,\n",
    "    (\"human\", \"data: {data}\"),\n",
    "    (\"ai\", \"image prompt: \")\n",
    "])\n",
    "\n",
    "prompt = final_prompt.format(data=json.dumps(data, indent=4))\n",
    "print(prompt)"
   ],
   "metadata": {
    "collapsed": false,
    "ExecuteTime": {
     "end_time": "2023-11-06T14:00:37.518012357Z",
     "start_time": "2023-11-06T14:00:37.499492514Z"
    }
   },
   "id": "1590ce8412b020d9"
  },
  {
   "cell_type": "code",
   "execution_count": 96,
   "outputs": [
    {
     "data": {
      "text/plain": "'An oil painting of a group of people hiking on a trail with a few clouds in the sky at midday.'"
     },
     "execution_count": 96,
     "metadata": {},
     "output_type": "execute_result"
    }
   ],
   "source": [
    "chain = final_prompt | language_model | StrOutputParser()\n",
    "chain.invoke({\"data\": data})\n"
   ],
   "metadata": {
    "collapsed": false,
    "ExecuteTime": {
     "end_time": "2023-11-06T14:00:40.859241543Z",
     "start_time": "2023-11-06T14:00:37.541796805Z"
    }
   },
   "id": "10e4b6cb265808ea"
  }
 ],
 "metadata": {
  "kernelspec": {
   "display_name": "Python 3",
   "language": "python",
   "name": "python3"
  },
  "language_info": {
   "codemirror_mode": {
    "name": "ipython",
    "version": 2
   },
   "file_extension": ".py",
   "mimetype": "text/x-python",
   "name": "python",
   "nbconvert_exporter": "python",
   "pygments_lexer": "ipython2",
   "version": "2.7.6"
  }
 },
 "nbformat": 4,
 "nbformat_minor": 5
}
