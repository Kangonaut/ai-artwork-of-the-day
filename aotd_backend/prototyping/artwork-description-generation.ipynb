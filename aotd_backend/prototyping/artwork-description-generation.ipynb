{
 "cells": [
  {
   "cell_type": "code",
   "execution_count": 167,
   "outputs": [],
   "source": [
    "import os\n",
    "import json\n",
    "import re\n",
    "import dotenv\n",
    "from langchain.chat_models import ChatOpenAI\n",
    "from langchain.prompts import FewShotChatMessagePromptTemplate, ChatPromptTemplate\n",
    "from langchain.schema.output_parser import StrOutputParser"
   ],
   "metadata": {
    "collapsed": false,
    "ExecuteTime": {
     "end_time": "2023-11-06T16:12:35.587215147Z",
     "start_time": "2023-11-06T16:12:35.545258349Z"
    }
   },
   "id": "161a21bda33952a1"
  },
  {
   "cell_type": "code",
   "execution_count": 168,
   "outputs": [
    {
     "data": {
      "text/plain": "True"
     },
     "execution_count": 168,
     "metadata": {},
     "output_type": "execute_result"
    }
   ],
   "source": [
    "dotenv.load_dotenv()"
   ],
   "metadata": {
    "collapsed": false,
    "ExecuteTime": {
     "end_time": "2023-11-06T16:12:35.587559164Z",
     "start_time": "2023-11-06T16:12:35.585535451Z"
    }
   },
   "id": "faa8879414a56dd9"
  },
  {
   "cell_type": "code",
   "execution_count": 169,
   "id": "initial_id",
   "metadata": {
    "collapsed": true,
    "ExecuteTime": {
     "end_time": "2023-11-06T16:12:35.587623279Z",
     "start_time": "2023-11-06T16:12:35.585638607Z"
    }
   },
   "outputs": [],
   "source": [
    "language_model = ChatOpenAI(\n",
    "    openai_api_key=os.getenv(\"OPENAI_API_KEY\"),\n",
    "    model_name=os.getenv(\"OPENAI_CHAT_MODEL_NAME\"),\n",
    "    temperature=float(os.getenv(\"OPENAI_CHAT_MODEL_TEMPERATURE\")),\n",
    "    max_tokens=int(os.getenv(\"OPENAI_CHAT_MODEL_MAX_TOKENS\")),\n",
    ")"
   ]
  },
  {
   "cell_type": "code",
   "execution_count": 170,
   "outputs": [],
   "source": [
    "data = {\n",
    "    \"events\": [\n",
    "        \"Hiking\",\n",
    "        \"Sprint Meeting\",\n",
    "        \"RTW 1211\",\n",
    "    ],\n",
    "    \"weather\":\n",
    "        {\n",
    "            \"general\": \"few clouds\",\n",
    "            \"is_dew\": \"False\",\n",
    "            \"is_rain\": \"False\",\n",
    "            \"is_snow\": \"False\"\n",
    "        },\n",
    "    \"daytime\": \"midday\",\n",
    "    \"art_style\": \"oil painting\"\n",
    "}"
   ],
   "metadata": {
    "collapsed": false,
    "ExecuteTime": {
     "end_time": "2023-11-06T16:12:35.587660890Z",
     "start_time": "2023-11-06T16:12:35.585669164Z"
    }
   },
   "id": "72fb94ef03a311bb"
  },
  {
   "cell_type": "code",
   "execution_count": 171,
   "outputs": [],
   "source": [
    "examples = [\n",
    "    {\n",
    "        \"data\": {\n",
    "            \"events\": [\n",
    "                \"Kickoff Meeting\",\n",
    "                \"DE10CBA3\",\n",
    "                \"Cycling Tour\",\n",
    "                \"Band Practice\",\n",
    "            ],\n",
    "            \"weather\": {\n",
    "                \"general\": \"sunny\",\n",
    "                \"is_dew\": \"False\",\n",
    "                \"is_rain\": \"False\",\n",
    "                \"is_snow\": \"False\"\n",
    "            },\n",
    "            \"daytime\": \"morning\",\n",
    "            \"art_style\": \"photograph\"\n",
    "        },\n",
    "        \"image_prompt\": \"A photograph of a person on a bicycle, driving on a road in the woods, on a sunny morning.\",\n",
    "\n",
    "    }\n",
    "]"
   ],
   "metadata": {
    "collapsed": false,
    "ExecuteTime": {
     "end_time": "2023-11-06T16:12:35.587693798Z",
     "start_time": "2023-11-06T16:12:35.585696496Z"
    }
   },
   "id": "4c007f868c51e386"
  },
  {
   "cell_type": "code",
   "execution_count": 172,
   "outputs": [],
   "source": [
    "example_prompt = ChatPromptTemplate.from_messages([\n",
    "    (\"human\", \"data: {data}\"),\n",
    "    (\"ai\", \"image prompt: '{image_prompt}'\")\n",
    "])"
   ],
   "metadata": {
    "collapsed": false,
    "ExecuteTime": {
     "end_time": "2023-11-06T16:12:35.587725536Z",
     "start_time": "2023-11-06T16:12:35.585723759Z"
    }
   },
   "id": "812c0c7a06aade41"
  },
  {
   "cell_type": "code",
   "execution_count": 173,
   "outputs": [],
   "source": [
    "few_shot_prompt = FewShotChatMessagePromptTemplate(\n",
    "    example_prompt=example_prompt,\n",
    "    examples=examples,\n",
    ")"
   ],
   "metadata": {
    "collapsed": false,
    "ExecuteTime": {
     "end_time": "2023-11-06T16:12:35.587756425Z",
     "start_time": "2023-11-06T16:12:35.585788340Z"
    }
   },
   "id": "420e37291ad17ceb"
  },
  {
   "cell_type": "code",
   "execution_count": 174,
   "outputs": [
    {
     "name": "stdout",
     "output_type": "stream",
     "text": [
      "System: Please generate a prompt for an image generation AI that visualizes the provided data (in JSON format). You are encouraged to be creative and design the artwork as you like.\n",
      "Human: data: {'events': ['Kickoff Meeting', 'DE10CBA3', 'Cycling Tour', 'Band Practice'], 'weather': {'general': 'sunny', 'is_dew': 'False', 'is_rain': 'False', 'is_snow': 'False'}, 'daytime': 'morning', 'art_style': 'photograph'}\n",
      "AI: image prompt: 'A photograph of a person on a bicycle, driving on a road in the woods, on a sunny morning.'\n",
      "Human: data: {'events': ['Hiking', 'Sprint Meeting', 'RTW 1211'], 'weather': {'general': 'few clouds', 'is_dew': 'False', 'is_rain': 'False', 'is_snow': 'False'}, 'daytime': 'midday', 'art_style': 'oil painting'}\n",
      "AI: image prompt: \n"
     ]
    }
   ],
   "source": [
    "final_prompt = ChatPromptTemplate.from_messages([\n",
    "    (\"system\",\n",
    "     \"Please generate a prompt for an image generation AI that visualizes the provided data (in JSON format). You are encouraged to be creative and design the artwork as you like.\"),\n",
    "    few_shot_prompt,\n",
    "    (\"human\", \"data: {data}\"),\n",
    "    (\"ai\", \"image prompt: \")\n",
    "])\n",
    "\n",
    "prompt = final_prompt.format(data=data)\n",
    "print(prompt)"
   ],
   "metadata": {
    "collapsed": false,
    "ExecuteTime": {
     "end_time": "2023-11-06T16:12:35.587839998Z",
     "start_time": "2023-11-06T16:12:35.585822691Z"
    }
   },
   "id": "1590ce8412b020d9"
  },
  {
   "cell_type": "code",
   "execution_count": 175,
   "outputs": [
    {
     "name": "stdout",
     "output_type": "stream",
     "text": [
      "\"An oil painting of a group of hikers on a trail under a sky with a few clouds during midday.\"\n"
     ]
    }
   ],
   "source": [
    "chain = final_prompt | language_model | StrOutputParser()\n",
    "response = chain.invoke({\"data\": data})\n",
    "\n",
    "print(response)"
   ],
   "metadata": {
    "collapsed": false,
    "ExecuteTime": {
     "end_time": "2023-11-06T16:12:38.633484745Z",
     "start_time": "2023-11-06T16:12:35.586718992Z"
    }
   },
   "id": "10e4b6cb265808ea"
  },
  {
   "cell_type": "code",
   "execution_count": 176,
   "outputs": [
    {
     "ename": "IndexError",
     "evalue": "list index out of range",
     "output_type": "error",
     "traceback": [
      "\u001B[0;31m---------------------------------------------------------------------------\u001B[0m",
      "\u001B[0;31mIndexError\u001B[0m                                Traceback (most recent call last)",
      "Cell \u001B[0;32mIn[176], line 1\u001B[0m\n\u001B[0;32m----> 1\u001B[0m result \u001B[38;5;241m=\u001B[39m \u001B[43mre\u001B[49m\u001B[38;5;241;43m.\u001B[39;49m\u001B[43mfindall\u001B[49m\u001B[43m(\u001B[49m\u001B[38;5;124;43m\"\u001B[39;49m\u001B[38;5;124;43m'\u001B[39;49m\u001B[38;5;124;43m([^\u001B[39;49m\u001B[38;5;124;43m'\u001B[39;49m\u001B[38;5;124;43m]+)\u001B[39;49m\u001B[38;5;124;43m'\u001B[39;49m\u001B[38;5;124;43m\"\u001B[39;49m\u001B[43m,\u001B[49m\u001B[43m \u001B[49m\u001B[43mresponse\u001B[49m\u001B[43m)\u001B[49m\u001B[43m[\u001B[49m\u001B[38;5;241;43m0\u001B[39;49m\u001B[43m]\u001B[49m\n\u001B[1;32m      2\u001B[0m \u001B[38;5;28mprint\u001B[39m(result)\n",
      "\u001B[0;31mIndexError\u001B[0m: list index out of range"
     ]
    }
   ],
   "source": [
    "result = re.findall(\"'([^']+)'\", response)[0]\n",
    "print(result)"
   ],
   "metadata": {
    "collapsed": false,
    "ExecuteTime": {
     "end_time": "2023-11-06T16:12:38.649716804Z",
     "start_time": "2023-11-06T16:12:38.643996940Z"
    }
   },
   "id": "31823d9cec42812d"
  }
 ],
 "metadata": {
  "kernelspec": {
   "display_name": "Python 3",
   "language": "python",
   "name": "python3"
  },
  "language_info": {
   "codemirror_mode": {
    "name": "ipython",
    "version": 2
   },
   "file_extension": ".py",
   "mimetype": "text/x-python",
   "name": "python",
   "nbconvert_exporter": "python",
   "pygments_lexer": "ipython2",
   "version": "2.7.6"
  }
 },
 "nbformat": 4,
 "nbformat_minor": 5
}
