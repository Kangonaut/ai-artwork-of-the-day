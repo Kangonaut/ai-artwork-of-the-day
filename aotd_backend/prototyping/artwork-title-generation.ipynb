{
 "cells": [
  {
   "cell_type": "code",
   "execution_count": 116,
   "id": "initial_id",
   "metadata": {
    "collapsed": true,
    "ExecuteTime": {
     "end_time": "2023-11-06T14:14:11.554552861Z",
     "start_time": "2023-11-06T14:14:11.512682852Z"
    }
   },
   "outputs": [],
   "source": [
    "import os\n",
    "import dotenv\n",
    "from langchain.chat_models import ChatOpenAI\n",
    "from langchain.prompts import ChatPromptTemplate, FewShotChatMessagePromptTemplate\n",
    "from langchain.schema.output_parser import StrOutputParser"
   ]
  },
  {
   "cell_type": "code",
   "execution_count": 117,
   "outputs": [
    {
     "data": {
      "text/plain": "True"
     },
     "execution_count": 117,
     "metadata": {},
     "output_type": "execute_result"
    }
   ],
   "source": [
    "dotenv.load_dotenv()"
   ],
   "metadata": {
    "collapsed": false,
    "ExecuteTime": {
     "end_time": "2023-11-06T14:14:11.555695820Z",
     "start_time": "2023-11-06T14:14:11.554129859Z"
    }
   },
   "id": "fa404ba258f0b7c9"
  },
  {
   "cell_type": "code",
   "execution_count": 118,
   "outputs": [],
   "source": [
    "language_model = ChatOpenAI(\n",
    "    openai_api_key=os.getenv(\"OPENAI_API_KEY\"),\n",
    "    model_name=os.getenv(\"OPENAI_CHAT_MODEL_NAME\"),\n",
    "    temperature=float(os.getenv(\"OPENAI_CHAT_MODEL_TEMPERATURE\")),\n",
    "    max_tokens=int(os.getenv(\"OPENAI_CHAT_MODEL_MAX_TOKENS\")),\n",
    ")"
   ],
   "metadata": {
    "collapsed": false,
    "ExecuteTime": {
     "end_time": "2023-11-06T14:14:11.556871512Z",
     "start_time": "2023-11-06T14:14:11.554986589Z"
    }
   },
   "id": "b34b11f26cb3b38a"
  },
  {
   "cell_type": "code",
   "execution_count": 119,
   "outputs": [],
   "source": [
    "image_prompt = \"An oil painting of a group of people hiking up a mountain trail under a sky with few clouds at midday.\""
   ],
   "metadata": {
    "collapsed": false,
    "ExecuteTime": {
     "end_time": "2023-11-06T14:14:11.557806563Z",
     "start_time": "2023-11-06T14:14:11.555241304Z"
    }
   },
   "id": "62edfe11e6a3a3d3"
  },
  {
   "cell_type": "code",
   "execution_count": 120,
   "outputs": [],
   "source": [
    "examples = [\n",
    "    {\n",
    "        \"image_prompt\": \"An image of a person programming on their computer in a cozy home office with a window in the background showing a cloudy autumn afternoon landscape.\",\n",
    "        \"title\": \"Autumn Coding Retreat\",\n",
    "    },\n",
    "    {\n",
    "        \"image_prompt\": \"An image of a person hiking in an autumn forest with a backpack, wearing a jacket. The sky is cloud-filled and the sun is peaking through the clouds.\",\n",
    "        \"title\": \"Autumn Trek: A Journey through the Fall Forest\",\n",
    "    },\n",
    "]"
   ],
   "metadata": {
    "collapsed": false,
    "ExecuteTime": {
     "end_time": "2023-11-06T14:14:11.558028795Z",
     "start_time": "2023-11-06T14:14:11.555439580Z"
    }
   },
   "id": "f60976bd43d70148"
  },
  {
   "cell_type": "code",
   "execution_count": 121,
   "outputs": [],
   "source": [
    "example_prompt = ChatPromptTemplate.from_messages([\n",
    "    (\"human\", \"artwork description: {image_prompt}\"),\n",
    "    (\"ai\", \"title: '{title}'\")\n",
    "])"
   ],
   "metadata": {
    "collapsed": false,
    "ExecuteTime": {
     "end_time": "2023-11-06T14:14:11.558697023Z",
     "start_time": "2023-11-06T14:14:11.555624226Z"
    }
   },
   "id": "3145d41fd8156ce"
  },
  {
   "cell_type": "code",
   "execution_count": 122,
   "outputs": [],
   "source": [
    "few_shot_prompt = FewShotChatMessagePromptTemplate(\n",
    "    examples=examples,\n",
    "    example_prompt=example_prompt,\n",
    ")"
   ],
   "metadata": {
    "collapsed": false,
    "ExecuteTime": {
     "end_time": "2023-11-06T14:14:11.562680351Z",
     "start_time": "2023-11-06T14:14:11.555894001Z"
    }
   },
   "id": "19e24e35500db86b"
  },
  {
   "cell_type": "code",
   "execution_count": 123,
   "outputs": [
    {
     "name": "stdout",
     "output_type": "stream",
     "text": [
      "System: Please generate a short title for the artwork described by the user.\n",
      "Human: artwork description: An image of a person programming on their computer in a cozy home office with a window in the background showing a cloudy autumn afternoon landscape.\n",
      "AI: title: 'Autumn Coding Retreat'\n",
      "Human: artwork description: An image of a person hiking in an autumn forest with a backpack, wearing a jacket. The sky is cloud-filled and the sun is peaking through the clouds.\n",
      "AI: title: 'Autumn Trek: A Journey through the Fall Forest'\n",
      "Human: artwork description: An oil painting of a group of people hiking up a mountain trail under a sky with few clouds at midday.\n",
      "AI: title: \n"
     ]
    }
   ],
   "source": [
    "final_prompt = ChatPromptTemplate.from_messages([\n",
    "    (\"system\", \"Please generate a short title for the artwork described by the user.\"),\n",
    "    few_shot_prompt,\n",
    "    (\"user\", \"artwork description: {image_prompt}\"),\n",
    "    (\"ai\", \"title: \"),\n",
    "])\n",
    "\n",
    "print(final_prompt.format(image_prompt=image_prompt))"
   ],
   "metadata": {
    "collapsed": false,
    "ExecuteTime": {
     "end_time": "2023-11-06T14:14:11.568122865Z",
     "start_time": "2023-11-06T14:14:11.564023829Z"
    }
   },
   "id": "ec63b296075c5617"
  },
  {
   "cell_type": "code",
   "execution_count": 124,
   "outputs": [
    {
     "data": {
      "text/plain": "\"'Ascend: The Midday Mountain Expedition'\""
     },
     "execution_count": 124,
     "metadata": {},
     "output_type": "execute_result"
    }
   ],
   "source": [
    "chain = final_prompt | language_model | StrOutputParser()\n",
    "chain.invoke({\"image_prompt\": image_prompt})"
   ],
   "metadata": {
    "collapsed": false,
    "ExecuteTime": {
     "end_time": "2023-11-06T14:14:13.199660057Z",
     "start_time": "2023-11-06T14:14:11.580402495Z"
    }
   },
   "id": "3231dc87d99b7d91"
  }
 ],
 "metadata": {
  "kernelspec": {
   "display_name": "Python 3",
   "language": "python",
   "name": "python3"
  },
  "language_info": {
   "codemirror_mode": {
    "name": "ipython",
    "version": 2
   },
   "file_extension": ".py",
   "mimetype": "text/x-python",
   "name": "python",
   "nbconvert_exporter": "python",
   "pygments_lexer": "ipython2",
   "version": "2.7.6"
  }
 },
 "nbformat": 4,
 "nbformat_minor": 5
}
